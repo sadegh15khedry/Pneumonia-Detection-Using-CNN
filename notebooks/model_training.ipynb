{
 "cells": [
  {
   "cell_type": "code",
   "execution_count": 1,
   "metadata": {},
   "outputs": [
    {
     "name": "stderr",
     "output_type": "stream",
     "text": [
      "2024-07-01 15:58:29.598401: I tensorflow/stream_executor/platform/default/dso_loader.cc:53] Successfully opened dynamic library libcudart.so.11.0\n"
     ]
    }
   ],
   "source": [
    "import sys\n",
    "import os\n",
    "sys.path.append(os.path.abspath('../src'))\n",
    "from utils import save_model\n",
    "from model_training import get_untrained_custom_model, train_model, get_train_dataset, get_val_dataset"
   ]
  },
  {
   "cell_type": "code",
   "execution_count": 2,
   "metadata": {},
   "outputs": [
    {
     "name": "stdout",
     "output_type": "stream",
     "text": [
      "Num GPUs Available:  1\n"
     ]
    },
    {
     "name": "stderr",
     "output_type": "stream",
     "text": [
      "2024-07-01 15:58:30.943962: I tensorflow/stream_executor/platform/default/dso_loader.cc:53] Successfully opened dynamic library libcuda.so.1\n",
      "2024-07-01 15:58:31.963910: I tensorflow/stream_executor/cuda/cuda_gpu_executor.cc:923] could not open file to read NUMA node: /sys/bus/pci/devices/0000:01:00.0/numa_node\n",
      "Your kernel may have been built without NUMA support.\n",
      "2024-07-01 15:58:31.963988: I tensorflow/core/common_runtime/gpu/gpu_device.cc:1733] Found device 0 with properties: \n",
      "pciBusID: 0000:01:00.0 name: NVIDIA GeForce RTX 3060 Laptop GPU computeCapability: 8.6\n",
      "coreClock: 1.425GHz coreCount: 30 deviceMemorySize: 6.00GiB deviceMemoryBandwidth: 312.97GiB/s\n",
      "2024-07-01 15:58:31.964032: I tensorflow/stream_executor/platform/default/dso_loader.cc:53] Successfully opened dynamic library libcudart.so.11.0\n",
      "2024-07-01 15:58:31.967772: I tensorflow/stream_executor/platform/default/dso_loader.cc:53] Successfully opened dynamic library libcublas.so.11\n",
      "2024-07-01 15:58:31.967925: I tensorflow/stream_executor/platform/default/dso_loader.cc:53] Successfully opened dynamic library libcublasLt.so.11\n",
      "2024-07-01 15:58:31.968960: I tensorflow/stream_executor/platform/default/dso_loader.cc:53] Successfully opened dynamic library libcufft.so.10\n",
      "2024-07-01 15:58:31.969310: I tensorflow/stream_executor/platform/default/dso_loader.cc:53] Successfully opened dynamic library libcurand.so.10\n",
      "2024-07-01 15:58:31.970027: I tensorflow/stream_executor/platform/default/dso_loader.cc:53] Successfully opened dynamic library libcusolver.so.11\n",
      "2024-07-01 15:58:31.970957: I tensorflow/stream_executor/platform/default/dso_loader.cc:53] Successfully opened dynamic library libcusparse.so.11\n",
      "2024-07-01 15:58:31.971129: I tensorflow/stream_executor/platform/default/dso_loader.cc:53] Successfully opened dynamic library libcudnn.so.8\n",
      "2024-07-01 15:58:31.971236: I tensorflow/stream_executor/cuda/cuda_gpu_executor.cc:923] could not open file to read NUMA node: /sys/bus/pci/devices/0000:01:00.0/numa_node\n",
      "Your kernel may have been built without NUMA support.\n",
      "2024-07-01 15:58:31.971270: I tensorflow/stream_executor/cuda/cuda_gpu_executor.cc:923] could not open file to read NUMA node: /sys/bus/pci/devices/0000:01:00.0/numa_node\n",
      "Your kernel may have been built without NUMA support.\n",
      "2024-07-01 15:58:31.971285: I tensorflow/core/common_runtime/gpu/gpu_device.cc:1871] Adding visible gpu devices: 0\n"
     ]
    }
   ],
   "source": [
    "# import tensorflow as tf\n",
    "# print(\"TensorFlow version:\", tf.__version__)\n",
    "# print(\"Num GPUs Available: \", len(tf.config.list_physical_devices('GPU')))\n",
    "# print(tf.config.list_physical_devices('GPU'))\n",
    "\n",
    "\n",
    "import tensorflow as tf\n",
    "print(\"Num GPUs Available: \", len(tf.config.experimental.list_physical_devices('GPU')))\n",
    "\n",
    "\n",
    "# import tensorflow as tf\n",
    "\n",
    "# # Get the list of physical GPUs available\n",
    "# gpus = tf.config.list_physical_devices('GPU')\n",
    "\n",
    "# if gpus:\n",
    "#     # Assuming you want to print the name of the first GPU\n",
    "#     gpu_name = gpus[0].name\n",
    "#     print(\"GPU in use:\", gpu_name)\n",
    "# else:\n",
    "#     print(\"No GPU available.\")\n"
   ]
  },
  {
   "cell_type": "code",
   "execution_count": 3,
   "metadata": {},
   "outputs": [],
   "source": [
    "# Setting up variables and hyperparameters\n",
    "#variables\n",
    "model_type = 'custom_untrained'\n",
    "\n",
    "train_dir = '../datasets/resized_ready/train'\n",
    "val_dir = '../datasets/resized_ready/val'\n",
    "save_path = '../models/model'\n",
    "image_height = 224\n",
    "image_width = 224\n",
    "should_train = True\n",
    "augmentation = True\n",
    "\n",
    "# hyperparameter\n",
    "batch_size = 32\n",
    "epochs = 32\n",
    "optimizer='adam'\n",
    "loss='categorical_crossentropy' \n",
    "metrics=['accuracy']"
   ]
  },
  {
   "cell_type": "code",
   "execution_count": 4,
   "metadata": {},
   "outputs": [
    {
     "name": "stdout",
     "output_type": "stream",
     "text": [
      "Found 4102 files belonging to 2 classes.\n"
     ]
    },
    {
     "name": "stderr",
     "output_type": "stream",
     "text": [
      "2024-07-01 15:58:32.258572: I tensorflow/core/platform/cpu_feature_guard.cc:142] This TensorFlow binary is optimized with oneAPI Deep Neural Network Library (oneDNN) to use the following CPU instructions in performance-critical operations:  AVX2 AVX512F FMA\n",
      "To enable them in other operations, rebuild TensorFlow with the appropriate compiler flags.\n",
      "2024-07-01 15:58:32.260503: I tensorflow/stream_executor/cuda/cuda_gpu_executor.cc:923] could not open file to read NUMA node: /sys/bus/pci/devices/0000:01:00.0/numa_node\n",
      "Your kernel may have been built without NUMA support.\n",
      "2024-07-01 15:58:32.260544: I tensorflow/core/common_runtime/gpu/gpu_device.cc:1733] Found device 0 with properties: \n",
      "pciBusID: 0000:01:00.0 name: NVIDIA GeForce RTX 3060 Laptop GPU computeCapability: 8.6\n",
      "coreClock: 1.425GHz coreCount: 30 deviceMemorySize: 6.00GiB deviceMemoryBandwidth: 312.97GiB/s\n",
      "2024-07-01 15:58:32.260587: I tensorflow/stream_executor/cuda/cuda_gpu_executor.cc:923] could not open file to read NUMA node: /sys/bus/pci/devices/0000:01:00.0/numa_node\n",
      "Your kernel may have been built without NUMA support.\n",
      "2024-07-01 15:58:32.260612: I tensorflow/stream_executor/cuda/cuda_gpu_executor.cc:923] could not open file to read NUMA node: /sys/bus/pci/devices/0000:01:00.0/numa_node\n",
      "Your kernel may have been built without NUMA support.\n",
      "2024-07-01 15:58:32.260618: I tensorflow/core/common_runtime/gpu/gpu_device.cc:1871] Adding visible gpu devices: 0\n",
      "2024-07-01 15:58:32.260716: I tensorflow/stream_executor/platform/default/dso_loader.cc:53] Successfully opened dynamic library libcudart.so.11.0\n",
      "2024-07-01 15:58:33.548443: I tensorflow/core/common_runtime/gpu/gpu_device.cc:1258] Device interconnect StreamExecutor with strength 1 edge matrix:\n",
      "2024-07-01 15:58:33.548481: I tensorflow/core/common_runtime/gpu/gpu_device.cc:1264]      0 \n",
      "2024-07-01 15:58:33.548487: I tensorflow/core/common_runtime/gpu/gpu_device.cc:1277] 0:   N \n",
      "2024-07-01 15:58:33.548949: I tensorflow/stream_executor/cuda/cuda_gpu_executor.cc:923] could not open file to read NUMA node: /sys/bus/pci/devices/0000:01:00.0/numa_node\n",
      "Your kernel may have been built without NUMA support.\n",
      "2024-07-01 15:58:33.549017: I tensorflow/stream_executor/cuda/cuda_gpu_executor.cc:923] could not open file to read NUMA node: /sys/bus/pci/devices/0000:01:00.0/numa_node\n",
      "Your kernel may have been built without NUMA support.\n",
      "2024-07-01 15:58:33.549024: I tensorflow/core/common_runtime/gpu/gpu_device.cc:1501] Could not identify NUMA node of platform GPU id 0, defaulting to 0.  Your kernel may not have been built with NUMA support.\n",
      "2024-07-01 15:58:33.549057: I tensorflow/stream_executor/cuda/cuda_gpu_executor.cc:923] could not open file to read NUMA node: /sys/bus/pci/devices/0000:01:00.0/numa_node\n",
      "Your kernel may have been built without NUMA support.\n",
      "2024-07-01 15:58:33.549100: I tensorflow/core/common_runtime/gpu/gpu_device.cc:1418] Created TensorFlow device (/job:localhost/replica:0/task:0/device:GPU:0 with 3436 MB memory) -> physical GPU (device: 0, name: NVIDIA GeForce RTX 3060 Laptop GPU, pci bus id: 0000:01:00.0, compute capability: 8.6)\n"
     ]
    },
    {
     "name": "stdout",
     "output_type": "stream",
     "text": [
      "Found 877 files belonging to 2 classes.\n"
     ]
    }
   ],
   "source": [
    "# getting the traing and validation datasets\n",
    "train_dataset = get_train_dataset(train_dir, batch_size, image_width, image_height, augmentation)\n",
    "val_dataset = get_val_dataset(val_dir, batch_size, image_width, image_height, augmentation)"
   ]
  },
  {
   "cell_type": "code",
   "execution_count": 5,
   "metadata": {},
   "outputs": [],
   "source": [
    "# Getting the model\n",
    "if model_type == 'custom_untrained':\n",
    "    model = get_untrained_custom_model(image_width, image_height, optimizer=optimizer, loss=loss, metrics=metrics)"
   ]
  },
  {
   "cell_type": "code",
   "execution_count": 6,
   "metadata": {},
   "outputs": [
    {
     "name": "stderr",
     "output_type": "stream",
     "text": [
      "2024-07-01 15:58:34.223541: I tensorflow/compiler/mlir/mlir_graph_optimization_pass.cc:176] None of the MLIR Optimization Passes are enabled (registered 2)\n",
      "2024-07-01 15:58:34.228854: I tensorflow/core/platform/profile_utils/cpu_utils.cc:114] CPU Frequency: 2495995000 Hz\n"
     ]
    },
    {
     "name": "stdout",
     "output_type": "stream",
     "text": [
      "Epoch 1/32\n"
     ]
    },
    {
     "name": "stderr",
     "output_type": "stream",
     "text": [
      "2024-07-01 15:58:35.081240: I tensorflow/stream_executor/platform/default/dso_loader.cc:53] Successfully opened dynamic library libcudnn.so.8\n",
      "2024-07-01 15:58:36.932803: I tensorflow/stream_executor/cuda/cuda_dnn.cc:359] Loaded cuDNN version 8100\n",
      "2024-07-01 15:58:38.490830: E tensorflow/core/platform/default/subprocess.cc:304] Start cannot spawn child process: No such file or directory\n",
      "2024-07-01 15:58:38.490898: W tensorflow/stream_executor/gpu/asm_compiler.cc:56] Couldn't invoke ptxas --version\n",
      "2024-07-01 15:58:38.574609: E tensorflow/core/platform/default/subprocess.cc:304] Start cannot spawn child process: No such file or directory\n",
      "2024-07-01 15:58:38.574764: W tensorflow/stream_executor/gpu/redzone_allocator.cc:314] Internal: Failed to launch ptxas\n",
      "Relying on driver to perform ptx compilation. \n",
      "Modify $PATH to customize ptxas location.\n",
      "This message will be only logged once.\n",
      "2024-07-01 15:58:38.638964: I tensorflow/stream_executor/platform/default/dso_loader.cc:53] Successfully opened dynamic library libcublas.so.11\n",
      "2024-07-01 15:58:39.601344: I tensorflow/stream_executor/platform/default/dso_loader.cc:53] Successfully opened dynamic library libcublasLt.so.11\n",
      "2024-07-01 15:58:39.916695: I tensorflow/stream_executor/cuda/cuda_blas.cc:1838] TensorFloat-32 will be used for the matrix multiplication. This will only be logged once.\n"
     ]
    },
    {
     "name": "stdout",
     "output_type": "stream",
     "text": [
      "129/129 [==============================] - 15s 65ms/step - loss: 143.2244 - accuracy: 0.7075 - val_loss: 0.5933 - val_accuracy: 0.7491\n",
      "Epoch 2/32\n",
      "129/129 [==============================] - 9s 66ms/step - loss: 0.5749 - accuracy: 0.7562 - val_loss: 0.5897 - val_accuracy: 0.7742\n",
      "Epoch 3/32\n",
      "129/129 [==============================] - 10s 73ms/step - loss: 0.5200 - accuracy: 0.7777 - val_loss: 0.5537 - val_accuracy: 0.7788\n",
      "Epoch 4/32\n",
      "129/129 [==============================] - 10s 77ms/step - loss: 0.4995 - accuracy: 0.7843 - val_loss: 0.4708 - val_accuracy: 0.7913\n",
      "Epoch 5/32\n",
      "129/129 [==============================] - 13s 99ms/step - loss: 0.4478 - accuracy: 0.7962 - val_loss: 0.4346 - val_accuracy: 0.8198\n",
      "Epoch 6/32\n",
      "129/129 [==============================] - 15s 115ms/step - loss: 0.4381 - accuracy: 0.8089 - val_loss: 0.4079 - val_accuracy: 0.8347\n",
      "Epoch 7/32\n",
      "129/129 [==============================] - 19s 148ms/step - loss: 0.4227 - accuracy: 0.8145 - val_loss: 0.4164 - val_accuracy: 0.8244\n",
      "Epoch 8/32\n",
      "129/129 [==============================] - 19s 146ms/step - loss: 0.4083 - accuracy: 0.8301 - val_loss: 0.4133 - val_accuracy: 0.8347\n",
      "Epoch 9/32\n",
      "129/129 [==============================] - 20s 151ms/step - loss: 0.4025 - accuracy: 0.8306 - val_loss: 0.3945 - val_accuracy: 0.8483\n",
      "Epoch 10/32\n",
      "129/129 [==============================] - 20s 154ms/step - loss: 0.3702 - accuracy: 0.8418 - val_loss: 0.3975 - val_accuracy: 0.8358\n",
      "Epoch 11/32\n",
      "129/129 [==============================] - 20s 155ms/step - loss: 0.3771 - accuracy: 0.8423 - val_loss: 0.3787 - val_accuracy: 0.8495\n",
      "Epoch 12/32\n",
      "129/129 [==============================] - 20s 156ms/step - loss: 0.3371 - accuracy: 0.8649 - val_loss: 0.3753 - val_accuracy: 0.8483\n",
      "Epoch 13/32\n",
      "129/129 [==============================] - 21s 159ms/step - loss: 0.3524 - accuracy: 0.8532 - val_loss: 0.3847 - val_accuracy: 0.8712\n",
      "Epoch 14/32\n",
      "129/129 [==============================] - 21s 161ms/step - loss: 0.3362 - accuracy: 0.8679 - val_loss: 0.3591 - val_accuracy: 0.8780\n",
      "Epoch 15/32\n",
      "129/129 [==============================] - 21s 160ms/step - loss: 0.3117 - accuracy: 0.8747 - val_loss: 0.3563 - val_accuracy: 0.8677\n",
      "Epoch 16/32\n",
      "129/129 [==============================] - 21s 160ms/step - loss: 0.3054 - accuracy: 0.8815 - val_loss: 0.3472 - val_accuracy: 0.8597\n",
      "Epoch 17/32\n",
      "129/129 [==============================] - 21s 160ms/step - loss: 0.2935 - accuracy: 0.8876 - val_loss: 0.3591 - val_accuracy: 0.8780\n",
      "Epoch 18/32\n",
      "129/129 [==============================] - 21s 161ms/step - loss: 0.2960 - accuracy: 0.8798 - val_loss: 0.3418 - val_accuracy: 0.8826\n",
      "Epoch 19/32\n",
      "129/129 [==============================] - 21s 162ms/step - loss: 0.2662 - accuracy: 0.8974 - val_loss: 0.3516 - val_accuracy: 0.8791\n",
      "Epoch 20/32\n",
      "129/129 [==============================] - 21s 162ms/step - loss: 0.2547 - accuracy: 0.9042 - val_loss: 0.3315 - val_accuracy: 0.8928\n",
      "Epoch 21/32\n",
      "129/129 [==============================] - 21s 160ms/step - loss: 0.2637 - accuracy: 0.9003 - val_loss: 0.3747 - val_accuracy: 0.8791\n",
      "Epoch 22/32\n",
      "129/129 [==============================] - 21s 161ms/step - loss: 0.2798 - accuracy: 0.9005 - val_loss: 0.3230 - val_accuracy: 0.8883\n",
      "Epoch 23/32\n",
      "129/129 [==============================] - 21s 164ms/step - loss: 0.2438 - accuracy: 0.9100 - val_loss: 0.3261 - val_accuracy: 0.9042\n",
      "Epoch 24/32\n",
      "129/129 [==============================] - 21s 161ms/step - loss: 0.2480 - accuracy: 0.9061 - val_loss: 0.3690 - val_accuracy: 0.9031\n",
      "Epoch 25/32\n",
      "129/129 [==============================] - 22s 167ms/step - loss: 0.2196 - accuracy: 0.9152 - val_loss: 0.3440 - val_accuracy: 0.9042\n",
      "Epoch 26/32\n",
      "129/129 [==============================] - 21s 162ms/step - loss: 0.2362 - accuracy: 0.9066 - val_loss: 0.3844 - val_accuracy: 0.8894\n",
      "Epoch 27/32\n",
      "129/129 [==============================] - 21s 162ms/step - loss: 0.2424 - accuracy: 0.9149 - val_loss: 0.3377 - val_accuracy: 0.9019\n",
      "Epoch 28/32\n",
      "129/129 [==============================] - 21s 162ms/step - loss: 0.2326 - accuracy: 0.9108 - val_loss: 0.3186 - val_accuracy: 0.9076\n",
      "Epoch 29/32\n",
      "129/129 [==============================] - 21s 163ms/step - loss: 0.2157 - accuracy: 0.9203 - val_loss: 0.3316 - val_accuracy: 0.9076\n",
      "Epoch 30/32\n",
      "129/129 [==============================] - 21s 163ms/step - loss: 0.2180 - accuracy: 0.9249 - val_loss: 0.3157 - val_accuracy: 0.9076\n",
      "Epoch 31/32\n",
      "129/129 [==============================] - 21s 162ms/step - loss: 0.2186 - accuracy: 0.9217 - val_loss: 0.3196 - val_accuracy: 0.9008\n",
      "Epoch 32/32\n",
      "129/129 [==============================] - 21s 162ms/step - loss: 0.2169 - accuracy: 0.9239 - val_loss: 0.3133 - val_accuracy: 0.9042\n"
     ]
    }
   ],
   "source": [
    "# Training the model\n",
    "# if should_train == True:\n",
    "history = train_model(model, train_dataset, epochs, val_dataset)"
   ]
  },
  {
   "cell_type": "code",
   "execution_count": null,
   "metadata": {},
   "outputs": [],
   "source": []
  },
  {
   "cell_type": "code",
   "execution_count": 7,
   "metadata": {},
   "outputs": [
    {
     "name": "stderr",
     "output_type": "stream",
     "text": [
      "2024-07-01 16:08:48.483655: W tensorflow/python/util/util.cc:348] Sets are not currently considered sequences, but this may change in the future, so consider avoiding using them.\n"
     ]
    },
    {
     "name": "stdout",
     "output_type": "stream",
     "text": [
      "INFO:tensorflow:Assets written to: ../models/model/assets\n"
     ]
    }
   ],
   "source": [
    "# Saving the model\n",
    "save_model(model, save_path)"
   ]
  }
 ],
 "metadata": {
  "kernelspec": {
   "display_name": "Python 3 (ipykernel)",
   "language": "python",
   "name": "python3"
  },
  "language_info": {
   "codemirror_mode": {
    "name": "ipython",
    "version": 3
   },
   "file_extension": ".py",
   "mimetype": "text/x-python",
   "name": "python",
   "nbconvert_exporter": "python",
   "pygments_lexer": "ipython3",
   "version": "3.9.19"
  }
 },
 "nbformat": 4,
 "nbformat_minor": 2
}
