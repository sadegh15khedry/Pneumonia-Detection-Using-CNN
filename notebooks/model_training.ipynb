{
 "cells": [
  {
   "cell_type": "code",
   "execution_count": null,
   "metadata": {},
   "outputs": [],
   "source": [
    "# import sys\n",
    "# import os\n",
    "# %matplotlib inline\n",
    "# from sklearn.metrics import mean_squared_error\n",
    "# sys.path.append(os.path.abspath('../src'))\n",
    "# from data_prepocessing import load_data\n",
    "# from model_training import train_model\n",
    "# from utils import save_model\n",
    "\n",
    "\n",
    "# #loading the datasets\n",
    "# x_train = load_data(\"x_train.csv\")\n",
    "# y_train = load_data(\"y_train.csv\")"
   ]
  },
  {
   "cell_type": "code",
   "execution_count": null,
   "metadata": {},
   "outputs": [],
   "source": [
    "#traingin the random forest model \n",
    "# model = train_model(x_train, y_train, 1000)"
   ]
  },
  {
   "cell_type": "code",
   "execution_count": null,
   "metadata": {},
   "outputs": [],
   "source": [
    "# # Get predictions on the training data\n",
    "# y_pred_train = model.predict(x_train)\n",
    "\n",
    "# # Calculate Mean Squared Error (MSE)\n",
    "# mse_train = mean_squared_error(y_train, y_pred_train)\n",
    "# print(f\"Training MSE: {mse_train}\")"
   ]
  },
  {
   "cell_type": "code",
   "execution_count": null,
   "metadata": {},
   "outputs": [],
   "source": [
    "#saving the tarained random forest model \n",
    "# save_model(model, '../models/random_forest.joblib')"
   ]
  }
 ],
 "metadata": {
  "kernelspec": {
   "display_name": "randomforest",
   "language": "python",
   "name": "python3"
  },
  "language_info": {
   "codemirror_mode": {
    "name": "ipython",
    "version": 3
   },
   "file_extension": ".py",
   "mimetype": "text/x-python",
   "name": "python",
   "nbconvert_exporter": "python",
   "pygments_lexer": "ipython3",
   "version": "3.12.4"
  }
 },
 "nbformat": 4,
 "nbformat_minor": 2
}
