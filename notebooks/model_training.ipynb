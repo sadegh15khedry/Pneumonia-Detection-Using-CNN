{
 "cells": [
  {
   "cell_type": "code",
   "execution_count": null,
   "metadata": {},
   "outputs": [],
   "source": [
    "import sys\n",
    "import os\n",
    "sys.path.append(os.path.abspath('../src'))\n",
    "from utils import save_model\n",
    "from model_training import get_untrained_custom_model, train_model, get_train_dataset, get_val_dataset, plot_training_history"
   ]
  },
  {
   "cell_type": "code",
   "execution_count": null,
   "metadata": {},
   "outputs": [],
   "source": [
    "#making sure the gpu is available\n",
    "import tensorflow as tf\n",
    "print(\"Num GPUs Available: \", len(tf.config.experimental.list_physical_devices('GPU')))\n",
    "\n"
   ]
  },
  {
   "cell_type": "code",
   "execution_count": null,
   "metadata": {},
   "outputs": [],
   "source": [
    "# Setting up variables and hyperparameters\n",
    "#variables\n",
    "model_type = 'custom_untrained'\n",
    "\n",
    "train_dir = '../datasets/resized_ready/train'\n",
    "val_dir = '../datasets/resized_ready/val'\n",
    "save_path = '../models'\n",
    "image_height = 224\n",
    "image_width = 224\n",
    "should_train = True\n",
    "augmentation = True\n",
    "\n",
    "# hyperparameter\n",
    "batch_size = 32\n",
    "epochs = 32\n",
    "optimizer='adam'\n",
    "loss='categorical_crossentropy' \n",
    "metrics=['accuracy']\n",
    "\n"
   ]
  },
  {
   "cell_type": "code",
   "execution_count": null,
   "metadata": {},
   "outputs": [],
   "source": [
    "# getting the traing and validation datasets\n",
    "train_dataset = get_train_dataset(train_dir, batch_size, image_width, image_height, augmentation)\n",
    "val_dataset = get_val_dataset(val_dir, batch_size, image_width, image_height, augmentation)"
   ]
  },
  {
   "cell_type": "code",
   "execution_count": null,
   "metadata": {},
   "outputs": [],
   "source": [
    "# Getting the model\n",
    "if model_type == 'custom_untrained':\n",
    "    model = get_untrained_custom_model(image_width, image_height, optimizer=optimizer, loss=loss, metrics=metrics)"
   ]
  },
  {
   "cell_type": "code",
   "execution_count": null,
   "metadata": {},
   "outputs": [],
   "source": [
    "# Training the model\n",
    "# if should_train == True:\n",
    "history = train_model(model, train_dataset, epochs, val_dataset)"
   ]
  },
  {
   "cell_type": "code",
   "execution_count": null,
   "metadata": {},
   "outputs": [],
   "source": [
    "# Ploting training and validation info\n",
    "plot_training_history(history)"
   ]
  },
  {
   "cell_type": "code",
   "execution_count": null,
   "metadata": {},
   "outputs": [],
   "source": [
    "# Saving the model\n",
    "save_model(model, save_path)"
   ]
  }
 ],
 "metadata": {
  "kernelspec": {
   "display_name": "Python 3 (ipykernel)",
   "language": "python",
   "name": "python3"
  },
  "language_info": {
   "codemirror_mode": {
    "name": "ipython",
    "version": 3
   },
   "file_extension": ".py",
   "mimetype": "text/x-python",
   "name": "python",
   "nbconvert_exporter": "python",
   "pygments_lexer": "ipython3",
   "version": "3.9.19"
  }
 },
 "nbformat": 4,
 "nbformat_minor": 2
}
