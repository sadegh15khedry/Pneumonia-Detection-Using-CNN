{
 "cells": [
  {
   "cell_type": "code",
   "execution_count": 1,
   "metadata": {},
   "outputs": [
    {
     "name": "stderr",
     "output_type": "stream",
     "text": [
      "2024-07-01 12:26:02.330717: I tensorflow/stream_executor/platform/default/dso_loader.cc:53] Successfully opened dynamic library libcudart.so.11.0\n"
     ]
    }
   ],
   "source": [
    "import sys\n",
    "import os\n",
    "sys.path.append(os.path.abspath('../src'))\n",
    "from utils import save_model\n",
    "from model_training import get_untrained_custom_model, train_model, get_train_dataset, get_val_dataset"
   ]
  },
  {
   "cell_type": "code",
   "execution_count": 2,
   "metadata": {},
   "outputs": [
    {
     "name": "stdout",
     "output_type": "stream",
     "text": [
      "Num GPUs Available:  1\n"
     ]
    },
    {
     "name": "stderr",
     "output_type": "stream",
     "text": [
      "2024-07-01 12:26:04.323735: I tensorflow/stream_executor/platform/default/dso_loader.cc:53] Successfully opened dynamic library libcuda.so.1\n",
      "2024-07-01 12:26:06.069823: I tensorflow/stream_executor/cuda/cuda_gpu_executor.cc:923] could not open file to read NUMA node: /sys/bus/pci/devices/0000:01:00.0/numa_node\n",
      "Your kernel may have been built without NUMA support.\n",
      "2024-07-01 12:26:06.069894: I tensorflow/core/common_runtime/gpu/gpu_device.cc:1733] Found device 0 with properties: \n",
      "pciBusID: 0000:01:00.0 name: NVIDIA GeForce RTX 3060 Laptop GPU computeCapability: 8.6\n",
      "coreClock: 1.425GHz coreCount: 30 deviceMemorySize: 6.00GiB deviceMemoryBandwidth: 312.97GiB/s\n",
      "2024-07-01 12:26:06.069963: I tensorflow/stream_executor/platform/default/dso_loader.cc:53] Successfully opened dynamic library libcudart.so.11.0\n",
      "2024-07-01 12:26:06.084452: I tensorflow/stream_executor/platform/default/dso_loader.cc:53] Successfully opened dynamic library libcublas.so.11\n",
      "2024-07-01 12:26:06.084686: I tensorflow/stream_executor/platform/default/dso_loader.cc:53] Successfully opened dynamic library libcublasLt.so.11\n",
      "2024-07-01 12:26:06.085714: I tensorflow/stream_executor/platform/default/dso_loader.cc:53] Successfully opened dynamic library libcufft.so.10\n",
      "2024-07-01 12:26:06.086125: I tensorflow/stream_executor/platform/default/dso_loader.cc:53] Successfully opened dynamic library libcurand.so.10\n",
      "2024-07-01 12:26:06.087085: I tensorflow/stream_executor/platform/default/dso_loader.cc:53] Successfully opened dynamic library libcusolver.so.11\n",
      "2024-07-01 12:26:06.087942: I tensorflow/stream_executor/platform/default/dso_loader.cc:53] Successfully opened dynamic library libcusparse.so.11\n",
      "2024-07-01 12:26:06.088156: I tensorflow/stream_executor/platform/default/dso_loader.cc:53] Successfully opened dynamic library libcudnn.so.8\n",
      "2024-07-01 12:26:06.088322: I tensorflow/stream_executor/cuda/cuda_gpu_executor.cc:923] could not open file to read NUMA node: /sys/bus/pci/devices/0000:01:00.0/numa_node\n",
      "Your kernel may have been built without NUMA support.\n",
      "2024-07-01 12:26:06.088366: I tensorflow/stream_executor/cuda/cuda_gpu_executor.cc:923] could not open file to read NUMA node: /sys/bus/pci/devices/0000:01:00.0/numa_node\n",
      "Your kernel may have been built without NUMA support.\n",
      "2024-07-01 12:26:06.088383: I tensorflow/core/common_runtime/gpu/gpu_device.cc:1871] Adding visible gpu devices: 0\n"
     ]
    }
   ],
   "source": [
    "# import tensorflow as tf\n",
    "# print(\"TensorFlow version:\", tf.__version__)\n",
    "# print(\"Num GPUs Available: \", len(tf.config.list_physical_devices('GPU')))\n",
    "# print(tf.config.list_physical_devices('GPU'))\n",
    "\n",
    "\n",
    "import tensorflow as tf\n",
    "print(\"Num GPUs Available: \", len(tf.config.experimental.list_physical_devices('GPU')))\n",
    "\n",
    "\n",
    "# import tensorflow as tf\n",
    "\n",
    "# # Get the list of physical GPUs available\n",
    "# gpus = tf.config.list_physical_devices('GPU')\n",
    "\n",
    "# if gpus:\n",
    "#     # Assuming you want to print the name of the first GPU\n",
    "#     gpu_name = gpus[0].name\n",
    "#     print(\"GPU in use:\", gpu_name)\n",
    "# else:\n",
    "#     print(\"No GPU available.\")\n"
   ]
  },
  {
   "cell_type": "code",
   "execution_count": 8,
   "metadata": {},
   "outputs": [],
   "source": [
    "# Setting up variables and hyperparameters\n",
    "#variables\n",
    "model_type = 'custom_untrained'\n",
    "\n",
    "train_dir = '../datasets/resized_ready/train'\n",
    "val_dir = '../datasets/resized_ready/val'\n",
    "save_path = '../models/model'\n",
    "image_height = 224\n",
    "image_width = 224\n",
    "should_train = True\n",
    "\n",
    "# hyperparameter\n",
    "batch_size = 32\n",
    "epochs = 32\n",
    "optimizer='adam'\n",
    "loss='categorical_crossentropy' \n",
    "metrics=['accuracy']"
   ]
  },
  {
   "cell_type": "code",
   "execution_count": 4,
   "metadata": {},
   "outputs": [
    {
     "name": "stdout",
     "output_type": "stream",
     "text": [
      "Found 4102 files belonging to 2 classes.\n"
     ]
    },
    {
     "name": "stderr",
     "output_type": "stream",
     "text": [
      "2024-07-01 12:26:06.399559: I tensorflow/core/platform/cpu_feature_guard.cc:142] This TensorFlow binary is optimized with oneAPI Deep Neural Network Library (oneDNN) to use the following CPU instructions in performance-critical operations:  AVX2 AVX512F FMA\n",
      "To enable them in other operations, rebuild TensorFlow with the appropriate compiler flags.\n",
      "2024-07-01 12:26:06.402329: I tensorflow/stream_executor/cuda/cuda_gpu_executor.cc:923] could not open file to read NUMA node: /sys/bus/pci/devices/0000:01:00.0/numa_node\n",
      "Your kernel may have been built without NUMA support.\n",
      "2024-07-01 12:26:06.402380: I tensorflow/core/common_runtime/gpu/gpu_device.cc:1733] Found device 0 with properties: \n",
      "pciBusID: 0000:01:00.0 name: NVIDIA GeForce RTX 3060 Laptop GPU computeCapability: 8.6\n",
      "coreClock: 1.425GHz coreCount: 30 deviceMemorySize: 6.00GiB deviceMemoryBandwidth: 312.97GiB/s\n",
      "2024-07-01 12:26:06.402462: I tensorflow/stream_executor/cuda/cuda_gpu_executor.cc:923] could not open file to read NUMA node: /sys/bus/pci/devices/0000:01:00.0/numa_node\n",
      "Your kernel may have been built without NUMA support.\n",
      "2024-07-01 12:26:06.402494: I tensorflow/stream_executor/cuda/cuda_gpu_executor.cc:923] could not open file to read NUMA node: /sys/bus/pci/devices/0000:01:00.0/numa_node\n",
      "Your kernel may have been built without NUMA support.\n",
      "2024-07-01 12:26:06.402504: I tensorflow/core/common_runtime/gpu/gpu_device.cc:1871] Adding visible gpu devices: 0\n",
      "2024-07-01 12:26:06.402598: I tensorflow/stream_executor/platform/default/dso_loader.cc:53] Successfully opened dynamic library libcudart.so.11.0\n",
      "2024-07-01 12:26:07.910816: I tensorflow/core/common_runtime/gpu/gpu_device.cc:1258] Device interconnect StreamExecutor with strength 1 edge matrix:\n",
      "2024-07-01 12:26:07.910867: I tensorflow/core/common_runtime/gpu/gpu_device.cc:1264]      0 \n",
      "2024-07-01 12:26:07.910874: I tensorflow/core/common_runtime/gpu/gpu_device.cc:1277] 0:   N \n",
      "2024-07-01 12:26:07.911470: I tensorflow/stream_executor/cuda/cuda_gpu_executor.cc:923] could not open file to read NUMA node: /sys/bus/pci/devices/0000:01:00.0/numa_node\n",
      "Your kernel may have been built without NUMA support.\n",
      "2024-07-01 12:26:07.911601: I tensorflow/stream_executor/cuda/cuda_gpu_executor.cc:923] could not open file to read NUMA node: /sys/bus/pci/devices/0000:01:00.0/numa_node\n",
      "Your kernel may have been built without NUMA support.\n",
      "2024-07-01 12:26:07.911611: I tensorflow/core/common_runtime/gpu/gpu_device.cc:1501] Could not identify NUMA node of platform GPU id 0, defaulting to 0.  Your kernel may not have been built with NUMA support.\n",
      "2024-07-01 12:26:07.911665: I tensorflow/stream_executor/cuda/cuda_gpu_executor.cc:923] could not open file to read NUMA node: /sys/bus/pci/devices/0000:01:00.0/numa_node\n",
      "Your kernel may have been built without NUMA support.\n",
      "2024-07-01 12:26:07.911727: I tensorflow/core/common_runtime/gpu/gpu_device.cc:1418] Created TensorFlow device (/job:localhost/replica:0/task:0/device:GPU:0 with 3436 MB memory) -> physical GPU (device: 0, name: NVIDIA GeForce RTX 3060 Laptop GPU, pci bus id: 0000:01:00.0, compute capability: 8.6)\n"
     ]
    },
    {
     "name": "stdout",
     "output_type": "stream",
     "text": [
      "Found 877 files belonging to 2 classes.\n"
     ]
    }
   ],
   "source": [
    "# getting the traing and validation datasets\n",
    "train_dataset = get_train_dataset(train_dir, batch_size, image_width, image_height)\n",
    "val_dataset = get_val_dataset(val_dir, batch_size, image_width, image_height)"
   ]
  },
  {
   "cell_type": "code",
   "execution_count": 5,
   "metadata": {},
   "outputs": [],
   "source": [
    "# Getting the model\n",
    "if model_type == 'custom_untrained':\n",
    "    model = get_untrained_custom_model(image_width, image_height, optimizer=optimizer, loss=loss, metrics=metrics)"
   ]
  },
  {
   "cell_type": "code",
   "execution_count": 9,
   "metadata": {},
   "outputs": [
    {
     "name": "stdout",
     "output_type": "stream",
     "text": [
      "Epoch 1/32\n",
      "129/129 [==============================] - 12s 87ms/step - loss: 0.1625 - accuracy: 0.9422 - val_loss: 0.4441 - val_accuracy: 0.9008\n",
      "Epoch 2/32\n",
      "129/129 [==============================] - 14s 109ms/step - loss: 0.1615 - accuracy: 0.9451 - val_loss: 0.4375 - val_accuracy: 0.8883\n",
      "Epoch 3/32\n",
      "129/129 [==============================] - 17s 133ms/step - loss: 0.1378 - accuracy: 0.9466 - val_loss: 0.4024 - val_accuracy: 0.8894\n",
      "Epoch 4/32\n",
      "129/129 [==============================] - 20s 155ms/step - loss: 0.1263 - accuracy: 0.9529 - val_loss: 0.3772 - val_accuracy: 0.9225\n",
      "Epoch 5/32\n",
      "129/129 [==============================] - 20s 158ms/step - loss: 0.1307 - accuracy: 0.9517 - val_loss: 0.3654 - val_accuracy: 0.9133\n",
      "Epoch 6/32\n",
      "129/129 [==============================] - 20s 155ms/step - loss: 0.1367 - accuracy: 0.9493 - val_loss: 0.4349 - val_accuracy: 0.8985\n",
      "Epoch 7/32\n",
      "129/129 [==============================] - 21s 165ms/step - loss: 0.1295 - accuracy: 0.9547 - val_loss: 0.4246 - val_accuracy: 0.9088\n",
      "Epoch 8/32\n",
      "129/129 [==============================] - 22s 169ms/step - loss: 0.1164 - accuracy: 0.9588 - val_loss: 0.4794 - val_accuracy: 0.9065\n",
      "Epoch 9/32\n",
      "129/129 [==============================] - 23s 177ms/step - loss: 0.1204 - accuracy: 0.9576 - val_loss: 0.4599 - val_accuracy: 0.9168\n",
      "Epoch 10/32\n",
      "129/129 [==============================] - 23s 178ms/step - loss: 0.1074 - accuracy: 0.9595 - val_loss: 0.5007 - val_accuracy: 0.9145\n",
      "Epoch 11/32\n",
      "129/129 [==============================] - 22s 169ms/step - loss: 0.1074 - accuracy: 0.9693 - val_loss: 0.4502 - val_accuracy: 0.9156\n",
      "Epoch 12/32\n",
      "129/129 [==============================] - 23s 175ms/step - loss: 0.1080 - accuracy: 0.9617 - val_loss: 0.5401 - val_accuracy: 0.9088\n",
      "Epoch 13/32\n",
      "129/129 [==============================] - 23s 178ms/step - loss: 0.1163 - accuracy: 0.9632 - val_loss: 0.5346 - val_accuracy: 0.9145\n",
      "Epoch 14/32\n",
      "129/129 [==============================] - 23s 180ms/step - loss: 0.1076 - accuracy: 0.9678 - val_loss: 0.4997 - val_accuracy: 0.9179\n",
      "Epoch 15/32\n",
      "129/129 [==============================] - 23s 178ms/step - loss: 0.1189 - accuracy: 0.9617 - val_loss: 0.4465 - val_accuracy: 0.9099\n",
      "Epoch 16/32\n",
      "129/129 [==============================] - 23s 179ms/step - loss: 0.1165 - accuracy: 0.9678 - val_loss: 0.4842 - val_accuracy: 0.9179\n",
      "Epoch 17/32\n",
      "129/129 [==============================] - 23s 180ms/step - loss: 0.1071 - accuracy: 0.9651 - val_loss: 0.4861 - val_accuracy: 0.9122\n",
      "Epoch 18/32\n",
      "129/129 [==============================] - 23s 180ms/step - loss: 0.1002 - accuracy: 0.9649 - val_loss: 0.5128 - val_accuracy: 0.9122\n",
      "Epoch 19/32\n",
      "129/129 [==============================] - 18s 134ms/step - loss: 0.1068 - accuracy: 0.9700 - val_loss: 0.5512 - val_accuracy: 0.9099\n",
      "Epoch 20/32\n",
      "129/129 [==============================] - 21s 160ms/step - loss: 0.1021 - accuracy: 0.9703 - val_loss: 0.5593 - val_accuracy: 0.9088\n",
      "Epoch 21/32\n",
      "129/129 [==============================] - 22s 172ms/step - loss: 0.0977 - accuracy: 0.9666 - val_loss: 0.5060 - val_accuracy: 0.9168\n",
      "Epoch 22/32\n",
      "129/129 [==============================] - 22s 172ms/step - loss: 0.1055 - accuracy: 0.9656 - val_loss: 0.4579 - val_accuracy: 0.9202\n",
      "Epoch 23/32\n",
      "129/129 [==============================] - 23s 175ms/step - loss: 0.1007 - accuracy: 0.9681 - val_loss: 0.8689 - val_accuracy: 0.8860\n",
      "Epoch 24/32\n",
      "129/129 [==============================] - 23s 176ms/step - loss: 0.1269 - accuracy: 0.9598 - val_loss: 0.5772 - val_accuracy: 0.9065\n",
      "Epoch 25/32\n",
      "129/129 [==============================] - 23s 179ms/step - loss: 0.0991 - accuracy: 0.9698 - val_loss: 0.6420 - val_accuracy: 0.8997\n",
      "Epoch 26/32\n",
      "129/129 [==============================] - 23s 177ms/step - loss: 0.0959 - accuracy: 0.9671 - val_loss: 0.5108 - val_accuracy: 0.9133\n",
      "Epoch 27/32\n",
      "129/129 [==============================] - 23s 179ms/step - loss: 0.1001 - accuracy: 0.9707 - val_loss: 0.5743 - val_accuracy: 0.9179\n",
      "Epoch 28/32\n",
      "129/129 [==============================] - 23s 177ms/step - loss: 0.1114 - accuracy: 0.9678 - val_loss: 0.4944 - val_accuracy: 0.9122\n",
      "Epoch 29/32\n",
      "129/129 [==============================] - 15s 115ms/step - loss: 0.0998 - accuracy: 0.9673 - val_loss: 0.5639 - val_accuracy: 0.9145\n",
      "Epoch 30/32\n",
      "129/129 [==============================] - 20s 158ms/step - loss: 0.1097 - accuracy: 0.9671 - val_loss: 0.5307 - val_accuracy: 0.9316\n",
      "Epoch 31/32\n",
      "129/129 [==============================] - 22s 169ms/step - loss: 0.0832 - accuracy: 0.9756 - val_loss: 0.5905 - val_accuracy: 0.9384\n",
      "Epoch 32/32\n",
      "129/129 [==============================] - 23s 174ms/step - loss: 0.0967 - accuracy: 0.9725 - val_loss: 0.6698 - val_accuracy: 0.9111\n"
     ]
    }
   ],
   "source": [
    "# Training the model\n",
    "if should_train == True:\n",
    "    train_model(model, train_dataset, epochs, val_dataset)"
   ]
  },
  {
   "cell_type": "code",
   "execution_count": 7,
   "metadata": {},
   "outputs": [
    {
     "name": "stderr",
     "output_type": "stream",
     "text": [
      "2024-07-01 12:31:55.033886: W tensorflow/python/util/util.cc:348] Sets are not currently considered sequences, but this may change in the future, so consider avoiding using them.\n"
     ]
    },
    {
     "name": "stdout",
     "output_type": "stream",
     "text": [
      "INFO:tensorflow:Assets written to: ../models/model/assets\n"
     ]
    }
   ],
   "source": [
    "# Saving the model\n",
    "save_model(model, save_path)"
   ]
  }
 ],
 "metadata": {
  "kernelspec": {
   "display_name": "Python 3 (ipykernel)",
   "language": "python",
   "name": "python3"
  },
  "language_info": {
   "codemirror_mode": {
    "name": "ipython",
    "version": 3
   },
   "file_extension": ".py",
   "mimetype": "text/x-python",
   "name": "python",
   "nbconvert_exporter": "python",
   "pygments_lexer": "ipython3",
   "version": "3.9.19"
  }
 },
 "nbformat": 4,
 "nbformat_minor": 2
}
