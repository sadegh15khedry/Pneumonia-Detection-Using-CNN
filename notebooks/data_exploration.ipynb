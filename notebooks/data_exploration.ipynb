{
 "cells": [
  {
   "cell_type": "code",
   "execution_count": 1,
   "metadata": {},
   "outputs": [],
   "source": [
    "import sys\n",
    "import os\n",
    "import matplotlib.pyplot as plt\n",
    "import cv2\n",
    "# Adding the src directory to the Python path\n",
    "sys.path.append(os.path.abspath('../src'))\n",
    "from utils import load_image, get_image_histogram, display_image, display_histogram, load_all_images, flatten_images, display_scatter\n",
    "from data_exploration import  apply_kmeans_clustering, reduce_dimensionality_for_clusterign, get_avgrage_width_and_lenght , get_image_intensity_statistics, print_intensity_statistics, get_sifit_image, get_harris_corners_image, get_orb_image"
   ]
  },
  {
   "cell_type": "code",
   "execution_count": null,
   "metadata": {},
   "outputs": [],
   "source": [
    "# Setting up variables\n",
    "root_directory = '../datasets/grayscaled/'\n",
    "class_names = ['Normal', 'Pneumonia']\n",
    "image = load_image(root_directory+'Normal/IM-0001-0001.jpeg')\n",
    "# Applying Gaussian blur to reduce noise\n",
    "blurred_image = cv2.GaussianBlur(image, (5, 5), 0)\n",
    "# Ensure the blurred image is of type CV_8UC1\n",
    "blurred_image_float = blurred_image.astype('float32')\n"
   ]
  },
  {
   "cell_type": "code",
   "execution_count": null,
   "metadata": {},
   "outputs": [],
   "source": [
    "# Displaying an image\n",
    "display_image(image, 'Random Image', 'x', 'y')"
   ]
  },
  {
   "cell_type": "code",
   "execution_count": null,
   "metadata": {},
   "outputs": [],
   "source": [
    "# Calculating the image intensity histogram\n",
    "hist = get_image_histogram(image)\n",
    "\n",
    "# Ploting the image intensity histogram\n",
    "display_histogram(hist, 'Histogram of Pixel Intensities', 'black', 'Pixel Intensity', 'Frequency')"
   ]
  },
  {
   "cell_type": "code",
   "execution_count": null,
   "metadata": {},
   "outputs": [],
   "source": [
    "# Calculating intensity statistical measures\n",
    "mean_intensity, std_intensity , median_intensity = get_image_intensity_statistics(image)\n",
    "\n",
    "# Printing intensity measures\n",
    "print_intensity_statistics(mean_intensity, std_intensity, median_intensity)"
   ]
  },
  {
   "cell_type": "code",
   "execution_count": null,
   "metadata": {},
   "outputs": [],
   "source": [
    "# Simpling thresholding\n",
    "_, thresholded_image = cv2.threshold(image, 127, 255, cv2.THRESH_BINARY)\n",
    "\n",
    "# displaying thresholded image\n",
    "display_image(thresholded_image, 'Thresholded Image', 'x', 'y')"
   ]
  },
  {
   "cell_type": "code",
   "execution_count": null,
   "metadata": {},
   "outputs": [],
   "source": [
    "# Calculating the avrage image dimensions\n",
    "avreage_lenght, avrage_width = get_avgrage_width_and_lenght(root_directory, class_names)\n",
    "print( str(int(avreage_lenght))+\"  x  \"+str(int(avrage_width)))"
   ]
  },
  {
   "cell_type": "code",
   "execution_count": null,
   "metadata": {},
   "outputs": [],
   "source": [
    "# Applying Canny edge detection\n",
    "edges = cv2.Canny(blurred_image, 100, 200)\n",
    "plt.imshow(edges, cmap='gray')\n",
    "plt.title('Canny Edge Detection')\n",
    "plt.show()"
   ]
  },
  {
   "cell_type": "code",
   "execution_count": null,
   "metadata": {},
   "outputs": [],
   "source": [
    "# Detect Harris corners\n",
    "corner_image = get_harris_corners_image(blurred_image_float, image)\n",
    "\n",
    "# Displaying the haris corners image\n",
    "display_image(corner_image, 'Harris Corner Detection', 'x', 'y', cmap='gray')\n"
   ]
  },
  {
   "cell_type": "code",
   "execution_count": null,
   "metadata": {},
   "outputs": [],
   "source": [
    "# Getting the sift image\n",
    "sift_image = get_sifit_image(blurred_image)\n",
    "\n",
    "# Displaying the sift image\n",
    "display_image(sift_image, 'SIFT Keypoints', 'x', 'y', cmap='gray')\n"
   ]
  },
  {
   "cell_type": "code",
   "execution_count": null,
   "metadata": {},
   "outputs": [],
   "source": [
    "#  Getting the ORB image\n",
    "orb_image = get_orb_image(blurred_image, image)\n",
    "# orb = cv2.ORB_create()\n",
    "# keypoints_orb, descriptors_orb = orb.detectAndCompute(blurred_image, None)\n",
    "# orb_image = cv2.drawKeypoints(image, keypoints_orb, None)\n",
    "\n",
    "# Displaying the ORB image\n",
    "display_image(orb_image, 'ORB Keypoints','','')"
   ]
  },
  {
   "cell_type": "code",
   "execution_count": null,
   "metadata": {},
   "outputs": [],
   "source": [
    "#Clustering and Dimensionality Reduction:\n",
    "\n",
    "# Setting the variables fro clustering \n",
    "source_directory = '../datasets/resized/'\n",
    "destination_directory = '../datasets/clustered_results'\n",
    "number_of_clusters = 2\n",
    "number_of_components = 2\n",
    "\n",
    "#Loading all the images\n",
    "images = load_all_images(source_directory, class_names)\n",
    "\n",
    "# Flatennign all the images\n",
    "flattened_images = flatten_images(images)\n",
    "\n",
    "# Reduce dimensionality using PCA for visualization\n",
    "reduced_data = reduce_dimensionality_for_clusterign(flattened_images, number_of_components)\n",
    "\n",
    "\n",
    "# Apply K-means clustering\n",
    "labels = apply_kmeans_clustering(reduced_data, number_of_clusters)\n",
    "\n",
    "\n",
    "# Plot the clustered data\n",
    "display_scatter(reduced_data[:, 0], reduced_data[:, 1], labels,'K-means Clustering of X-ray Images', 'PCA Component 1', 'PCA Component 2')\n"
   ]
  },
  {
   "cell_type": "code",
   "execution_count": null,
   "metadata": {},
   "outputs": [],
   "source": [
    "display_image(images[0],images[0],'','')"
   ]
  }
 ],
 "metadata": {
  "kernelspec": {
   "display_name": "Python 3",
   "language": "python",
   "name": "python3"
  },
  "language_info": {
   "codemirror_mode": {
    "name": "ipython",
    "version": 3
   },
   "file_extension": ".py",
   "mimetype": "text/x-python",
   "name": "python",
   "nbconvert_exporter": "python",
   "pygments_lexer": "ipython3",
   "version": "3.11.9"
  }
 },
 "nbformat": 4,
 "nbformat_minor": 2
}
