{
 "cells": [
  {
   "cell_type": "code",
   "execution_count": 1,
   "metadata": {},
   "outputs": [],
   "source": [
    "import sys\n",
    "import os\n",
    "# Add the src directory to the Python path\n",
    "sys.path.append(os.path.abspath('../src'))\n",
    "from data_prepocessing import rename_images, split_images_into_train_validation_test, calculate_train_val_test_sizes\n"
   ]
  },
  {
   "cell_type": "code",
   "execution_count": 2,
   "metadata": {},
   "outputs": [],
   "source": [
    "#renaming images in the dataset. adding the label as prefix for the image\n",
    "# rename_images('../datasets/raw/Pneumonia', 'Pneumonia')"
   ]
  },
  {
   "cell_type": "code",
   "execution_count": 3,
   "metadata": {},
   "outputs": [
    {
     "data": {
      "text/plain": [
       "[1583, 4273]"
      ]
     },
     "execution_count": 3,
     "metadata": {},
     "output_type": "execute_result"
    }
   ],
   "source": [
    "\n",
    "#calculating the number of train, validation and test for each class \n",
    "class_names = ['Normal', 'Pneumonia']\n",
    "total_sizes_each_class = [1583, 4273]\n",
    "val_percetage = .15\n",
    "test_percetage = .15\n",
    "train_size, val_size, test_size = calculate_train_val_test_sizes(total_sizes_each_class, val_percetage, test_percetage)\n",
    "\n",
    "#testing the size claculations\n",
    "total_recalculated = [x+y+z for x, y, z in zip(train_size, val_size, test_size)]\n",
    "total_recalculated\n"
   ]
  },
  {
   "cell_type": "code",
   "execution_count": 4,
   "metadata": {},
   "outputs": [],
   "source": [
    "#spilitng the dataset into train, validation and test\n",
    "split_images_into_train_validation_test('../datasets/renamed/', '../datasets/ready/', class_names, val_size, test_size)\n"
   ]
  }
 ],
 "metadata": {
  "kernelspec": {
   "display_name": "Python 3",
   "language": "python",
   "name": "python3"
  },
  "language_info": {
   "codemirror_mode": {
    "name": "ipython",
    "version": 3
   },
   "file_extension": ".py",
   "mimetype": "text/x-python",
   "name": "python",
   "nbconvert_exporter": "python",
   "pygments_lexer": "ipython3",
   "version": "3.11.9"
  }
 },
 "nbformat": 4,
 "nbformat_minor": 2
}
