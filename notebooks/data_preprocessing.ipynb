{
 "cells": [
  {
   "cell_type": "code",
   "execution_count": 2,
   "metadata": {},
   "outputs": [],
   "source": [
    "import sys\n",
    "import os\n",
    "# Add the src directory to the Python path\n",
    "sys.path.append(os.path.abspath('../src'))\n",
    "from data_prepocessing import convert_images_to_grayscale, remove_corrupt_images, rename_images, split_images_into_train_validation_test, calculate_train_val_test_sizes, resize_and_rename_images\n",
    "\n",
    "#setting up the variables\n",
    "class_names = ['Normal', 'Pneumonia']\n",
    "root_directory = '../datasets/grayscaled//'"
   ]
  },
  {
   "cell_type": "code",
   "execution_count": null,
   "metadata": {},
   "outputs": [],
   "source": [
    "#removing for corrupt images\n",
    "\n",
    "remeoved_list = remove_corrupt_images(root_directory, class_names)\n",
    "remeoved_list"
   ]
  },
  {
   "cell_type": "code",
   "execution_count": null,
   "metadata": {},
   "outputs": [],
   "source": [
    "convert_images_to_grayscale(root_directory, '../datasets/grayscaled/', class_names)"
   ]
  },
  {
   "cell_type": "code",
   "execution_count": null,
   "metadata": {},
   "outputs": [],
   "source": [
    "\n",
    "#resizing and renaming images\n",
    "width = 224\n",
    "lenght = 224 \n",
    "desitnation_directory = '../datasets/resized/'\n",
    "resize_and_rename_images(root_directory, desitnation_directory, class_names,width, lenght)"
   ]
  },
  {
   "cell_type": "code",
   "execution_count": null,
   "metadata": {},
   "outputs": [],
   "source": [
    "#renaming images in the dataset. adding the label as prefix for the image\n",
    "rename_images('../datasets/raw/Pneumonia', 'Pneumonia')"
   ]
  },
  {
   "cell_type": "code",
   "execution_count": 4,
   "metadata": {},
   "outputs": [
    {
     "data": {
      "text/plain": [
       "[1583, 4273]"
      ]
     },
     "execution_count": 4,
     "metadata": {},
     "output_type": "execute_result"
    }
   ],
   "source": [
    "\n",
    "#calculating the number of train, validation and test for each class \n",
    "total_sizes_each_class = [1583, 4273]\n",
    "val_percetage = .15\n",
    "test_percetage = .15\n",
    "train_size, val_size, test_size = calculate_train_val_test_sizes(total_sizes_each_class, val_percetage, test_percetage)\n",
    "\n",
    "#testing the size claculations\n",
    "total_recalculated = [x+y+z for x, y, z in zip(train_size, val_size, test_size)]\n",
    "total_recalculated\n"
   ]
  },
  {
   "cell_type": "code",
   "execution_count": 5,
   "metadata": {},
   "outputs": [],
   "source": [
    "#spilitng the dataset into train, validation and test\n",
    "source_directory = '../datasets/resized/'\n",
    "destination_directory ='../datasets/resized_ready/'\n",
    "split_images_into_train_validation_test(source_directory, destination_directory, class_names, val_size, test_size)\n"
   ]
  }
 ],
 "metadata": {
  "kernelspec": {
   "display_name": "Python 3",
   "language": "python",
   "name": "python3"
  },
  "language_info": {
   "codemirror_mode": {
    "name": "ipython",
    "version": 3
   },
   "file_extension": ".py",
   "mimetype": "text/x-python",
   "name": "python",
   "nbconvert_exporter": "python",
   "pygments_lexer": "ipython3",
   "version": "3.11.9"
  }
 },
 "nbformat": 4,
 "nbformat_minor": 2
}
